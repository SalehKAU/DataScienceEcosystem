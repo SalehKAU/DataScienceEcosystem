{
 "cells": [
  {
   "cell_type": "markdown",
   "id": "bb079faf-a4d6-457a-b99a-6c34aca5a03c",
   "metadata": {},
   "source": [
    "# Data Science Tools and Ecosystem"
   ]
  },
  {
   "cell_type": "markdown",
   "id": "87e3b91f-16ef-432e-9b29-cbb2d8c53672",
   "metadata": {},
   "source": [
    "In this notebook, Data Science Tools and Ecosystem are summarized."
   ]
  },
  {
   "cell_type": "markdown",
   "id": "d57a61ab-54d2-428d-a334-fac9563a9e6c",
   "metadata": {},
   "source": [
    "Some of the popular languages that Data Scientists use are:\n",
    " 1. Python\n",
    " 2. R\n",
    " 3. SQL"
   ]
  },
  {
   "cell_type": "markdown",
   "id": "9957c4f4-1b72-4b1e-89e5-b56322863274",
   "metadata": {
    "tags": []
   },
   "source": [
    "Some of the commonly used libraries used by Data Scientists include:\n",
    "1. Pandas\n",
    "2. NumPy\n",
    "3. Matplotlib\n",
    "4. Scikit-learn"
   ]
  },
  {
   "cell_type": "markdown",
   "id": "7f2904e2-d157-4c1f-bce7-1831c050d466",
   "metadata": {},
   "source": [
    "| Data Science Tools         |\n",
    "|----------------------------|\n",
    "| Jupyter Notebook           |\n",
    "| RStudio                    |\n",
    "| Apache Zeppelin            |"
   ]
  },
  {
   "cell_type": "markdown",
   "id": "095f212c-ed7b-4c7e-b64b-891447a17002",
   "metadata": {},
   "source": [
    "### Below are a few examples of evaluating arithmetic expressions in Python."
   ]
  },
  {
   "cell_type": "markdown",
   "id": "969b50ae-a840-4aae-ba8f-8472e7c219c3",
   "metadata": {},
   "source": [
    "This a simple arithmetic expression to mutiply then add integers"
   ]
  },
  {
   "cell_type": "markdown",
   "id": "67118abf-e4c4-4a6f-8e5f-e7e7fb4bc9bd",
   "metadata": {
    "tags": []
   },
   "source": [
    "(3 * 4) + 5"
   ]
  },
  {
   "cell_type": "markdown",
   "id": "e9cb2e5d-c5f4-43a7-8ddf-7d6e41d12a54",
   "metadata": {},
   "source": [
    "17"
   ]
  },
  {
   "cell_type": "markdown",
   "id": "3b4e8aca-4bb9-4108-91d9-ee283da4df33",
   "metadata": {},
   "source": [
    "This will convert 200 minutes to hours by diving by 60"
   ]
  },
  {
   "cell_type": "code",
   "execution_count": 2,
   "id": "ae250e1e-2def-4838-9fee-0806bf068e56",
   "metadata": {
    "tags": []
   },
   "outputs": [
    {
     "data": {
      "text/plain": [
       "3.3333333333333335"
      ]
     },
     "execution_count": 2,
     "metadata": {},
     "output_type": "execute_result"
    }
   ],
   "source": [
    "minutes = 200\n",
    "hours = minutes / 60\n",
    "hours"
   ]
  },
  {
   "cell_type": "markdown",
   "id": "09ea15d5-d837-48fd-94e0-8f9f2c4452dd",
   "metadata": {},
   "source": [
    "**Objectives:**\n",
    "\n",
    "- List popular languages for Data Science\n",
    "- Identify commonly used libraries by Data Scientists\n",
    "- Demonstrate how to create tables in markdown\n",
    "- Show examples of simple arithmetic expressions\n",
    "- Explain how to convert units in Python"
   ]
  },
  {
   "cell_type": "markdown",
   "id": "5e1be1f1-ab15-45e3-a614-1eaa969718df",
   "metadata": {},
   "source": [
    "## Author\n",
    "\n",
    "Saleh Alhumaymidi"
   ]
  },
  {
   "cell_type": "code",
   "execution_count": null,
   "id": "15e16c7e-42b6-43f0-912e-a4e78cf8f95d",
   "metadata": {},
   "outputs": [],
   "source": []
  }
 ],
 "metadata": {
  "kernelspec": {
   "display_name": "Python",
   "language": "python",
   "name": "conda-env-python-py"
  },
  "language_info": {
   "codemirror_mode": {
    "name": "ipython",
    "version": 3
   },
   "file_extension": ".py",
   "mimetype": "text/x-python",
   "name": "python",
   "nbconvert_exporter": "python",
   "pygments_lexer": "ipython3",
   "version": "3.7.12"
  }
 },
 "nbformat": 4,
 "nbformat_minor": 5
}
